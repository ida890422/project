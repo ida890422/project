{
  "nbformat": 4,
  "nbformat_minor": 0,
  "metadata": {
    "colab": {
      "provenance": [],
      "authorship_tag": "ABX9TyOqs9Am+9t7AZiU28/Ygwk2",
      "include_colab_link": true
    },
    "kernelspec": {
      "name": "python3",
      "display_name": "Python 3"
    },
    "language_info": {
      "name": "python"
    }
  },
  "cells": [
    {
      "cell_type": "markdown",
      "metadata": {
        "id": "view-in-github",
        "colab_type": "text"
      },
      "source": [
        "<a href=\"https://colab.research.google.com/github/ida890422/project/blob/main/Ida_Python_Assignment_1.ipynb\" target=\"_parent\"><img src=\"https://colab.research.google.com/assets/colab-badge.svg\" alt=\"Open In Colab\"/></a>"
      ]
    },
    {
      "cell_type": "code",
      "execution_count": null,
      "metadata": {
        "colab": {
          "base_uri": "https://localhost:8080/"
        },
        "id": "TxE2qIVNMf__",
        "outputId": "b3fc9a8a-beda-4713-ae11-c677c13896d8"
      },
      "outputs": [
        {
          "output_type": "stream",
          "name": "stdout",
          "text": [
            "Hello, Linguistics\n",
            "18\n",
            "HELLO, LINGUISTICS\n",
            "hello, linguistics\n"
          ]
        }
      ],
      "source": [
        "print (\"Hello, Linguistics\")\n",
        "\n",
        "sent = \"Hello, Linguistics\"\n",
        "\n",
        "print(len(sent))\n",
        "upper= sent.upper()\n",
        "print(upper)\n",
        "\n",
        "\n",
        "lower= sent.lower()\n",
        "print(lower)"
      ]
    },
    {
      "cell_type": "code",
      "source": [
        "num=[7, 4, 3, 9, 6]\n",
        "\n",
        "is_true = True\n",
        "is_false = False to\n",
        "scores = [7, 4, 3, 9, 6]\n",
        "tools = [\"ruler\", \"nails\",\"hammer\",\"knife\",\"wrench\"]\n",
        "print(tools[3])\n",
        "print(tools[0])"
      ],
      "metadata": {
        "colab": {
          "base_uri": "https://localhost:8080/"
        },
        "id": "VU8P06e2TYAp",
        "outputId": "c0f6a5fa-f3a2-48b2-9fc5-25fc7b6db984"
      },
      "execution_count": null,
      "outputs": [
        {
          "output_type": "stream",
          "name": "stdout",
          "text": [
            "knife\n",
            "ruler\n"
          ]
        }
      ]
    },
    {
      "cell_type": "code",
      "source": [
        "zoo_animals = [\"Dog\",\"Cat\",\"Bird\",\"Tiger\",\"Elephant\",\"Pig\",\"Wolf\",\"Horse\",\"Lion\"];\n",
        "for animal in zoo_animals:\n",
        "  if (len(animal)>4):\n",
        "    print(\"yes\")\n",
        "  else:\n",
        "    print(\"no\")"
      ],
      "metadata": {
        "colab": {
          "base_uri": "https://localhost:8080/"
        },
        "id": "OAbVioWfV6fH",
        "outputId": "bf8e6005-d340-4ed5-de94-3c58fdb554f3"
      },
      "execution_count": null,
      "outputs": [
        {
          "output_type": "stream",
          "name": "stdout",
          "text": [
            "no\n",
            "no\n",
            "no\n",
            "yes\n",
            "yes\n",
            "no\n",
            "no\n",
            "yes\n",
            "no\n"
          ]
        }
      ]
    }
  ]
}